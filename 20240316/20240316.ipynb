{
 "cells": [
  {
   "cell_type": "markdown",
   "metadata": {},
   "source": [
    "## if - else"
   ]
  },
  {
   "cell_type": "code",
   "execution_count": 2,
   "metadata": {},
   "outputs": [],
   "source": [
    "a  = 4\n",
    "if a > 5:\n",
    "    print(\"a > 5\")"
   ]
  },
  {
   "cell_type": "code",
   "execution_count": 4,
   "metadata": {},
   "outputs": [
    {
     "name": "stdout",
     "output_type": "stream",
     "text": [
      "a <= 5\n"
     ]
    }
   ],
   "source": [
    "a  = 4\n",
    "if a > 5:\n",
    "    print(\"a > 5\")\n",
    "else:\n",
    "    print(\"a <= 5\")"
   ]
  },
  {
   "cell_type": "code",
   "execution_count": 6,
   "metadata": {},
   "outputs": [
    {
     "name": "stdout",
     "output_type": "stream",
     "text": [
      "FBI! open up\n"
     ]
    }
   ],
   "source": [
    "age = 15\n",
    "if age >= 18:\n",
    "    print(\"可以結婚\")\n",
    "elif age >= 16:\n",
    "    print(\"可以訂婚\")\n",
    "else:\n",
    "    print(\"FBI! open up\")"
   ]
  },
  {
   "cell_type": "code",
   "execution_count": 12,
   "metadata": {},
   "outputs": [
    {
     "name": "stdout",
     "output_type": "stream",
     "text": [
      "永遠都會執行\n"
     ]
    }
   ],
   "source": [
    "if True:\n",
    "    print(\"永遠都會執行\")"
   ]
  },
  {
   "cell_type": "markdown",
   "metadata": {},
   "source": [
    "## while loop"
   ]
  },
  {
   "cell_type": "code",
   "execution_count": 16,
   "metadata": {},
   "outputs": [
    {
     "name": "stdout",
     "output_type": "stream",
     "text": [
      "a 還大於 0 10\n",
      "a 還大於 0 9\n",
      "a 還大於 0 8\n",
      "a 還大於 0 7\n",
      "a 還大於 0 6\n",
      "a 還大於 0 5\n",
      "a 還大於 0 4\n",
      "a 還大於 0 3\n",
      "a 還大於 0 2\n",
      "a 還大於 0 1\n"
     ]
    }
   ],
   "source": [
    "a = 10\n",
    "\n",
    "while a>0: # 當 a > 0 就重複執行\n",
    "    print(\"a 還大於 0\", a)\n",
    "    a =  a - 1\n",
    "    "
   ]
  },
  {
   "cell_type": "code",
   "execution_count": 18,
   "metadata": {},
   "outputs": [
    {
     "name": "stdout",
     "output_type": "stream",
     "text": [
      "a 還大於 0 5\n",
      "a 還大於 0 4\n",
      "a 還大於 0 3\n",
      "a 還大於 0 2\n",
      "a 還大於 0 1\n",
      "a 已經小於 0 0\n"
     ]
    }
   ],
   "source": [
    "a = 5\n",
    "\n",
    "while a>0: # 當 a > 0 就重複執行\n",
    "    print(\"a 還大於 0\", a)\n",
    "    a =  a - 1\n",
    "\n",
    "print(\"a 已經小於 0\", a)"
   ]
  },
  {
   "cell_type": "code",
   "execution_count": 23,
   "metadata": {},
   "outputs": [
    {
     "name": "stdout",
     "output_type": "stream",
     "text": [
      "a 還大於 0 3\n",
      "a 還大於 0 2\n",
      "a 還大於 0 1\n",
      "a 已經小於 0 0\n",
      "迴圈結束\n"
     ]
    }
   ],
   "source": [
    "a = 3\n",
    "\n",
    "while a>0: # 當 a > 0 就重複執行\n",
    "    print(\"a 還大於 0\", a)\n",
    "    a =  a - 1\n",
    "    if a == 3:\n",
    "        break # 跳出while迴圈(異常/主動)\n",
    "else: \n",
    "    print(\"a 已經小於 0\", a) # 被動離開while迴圈(while的判斷式為False)\n",
    "    # save file\n",
    "    # calculate result\n",
    "\n",
    "print(\"迴圈結束\")"
   ]
  },
  {
   "cell_type": "markdown",
   "metadata": {},
   "source": [
    "## iterator 迭代器"
   ]
  },
  {
   "cell_type": "code",
   "execution_count": 34,
   "metadata": {},
   "outputs": [],
   "source": [
    "name = [\"Eason\",\"Ching\",\"Billy\"]\n",
    "i = iter(name) # i 是一個迭代器"
   ]
  },
  {
   "cell_type": "code",
   "execution_count": 38,
   "metadata": {},
   "outputs": [
    {
     "ename": "StopIteration",
     "evalue": "",
     "output_type": "error",
     "traceback": [
      "\u001b[1;31m---------------------------------------------------------------------------\u001b[0m",
      "\u001b[1;31mStopIteration\u001b[0m                             Traceback (most recent call last)",
      "Cell \u001b[1;32mIn[38], line 1\u001b[0m\n\u001b[1;32m----> 1\u001b[0m n \u001b[38;5;241m=\u001b[39m \u001b[38;5;28;43mnext\u001b[39;49m\u001b[43m(\u001b[49m\u001b[43mi\u001b[49m\u001b[43m)\u001b[49m\n\u001b[0;32m      2\u001b[0m \u001b[38;5;28mprint\u001b[39m(n)\n",
      "\u001b[1;31mStopIteration\u001b[0m: "
     ]
    }
   ],
   "source": [
    "n = next(i) # next(iterator)\n",
    "print(n)"
   ]
  },
  {
   "cell_type": "markdown",
   "metadata": {},
   "source": [
    "## for-loop"
   ]
  },
  {
   "cell_type": "code",
   "execution_count": 39,
   "metadata": {},
   "outputs": [
    {
     "name": "stdout",
     "output_type": "stream",
     "text": [
      "Eason\n",
      "Ching\n",
      "Billy\n"
     ]
    }
   ],
   "source": [
    "name = [\"Eason\",\"Ching\",\"Billy\"]\n",
    "for n in name: # iter/next 被隱藏了\n",
    "    print(n)"
   ]
  },
  {
   "cell_type": "code",
   "execution_count": 43,
   "metadata": {},
   "outputs": [
    {
     "name": "stdout",
     "output_type": "stream",
     "text": [
      "平均值: 3.5555555555555554\n",
      "結束資料處理\n"
     ]
    }
   ],
   "source": [
    "data = [2,3,5,5,2,1,5,3,6] # 假設 <0 異常\n",
    "s = 0 #初始化\n",
    "for d in data:\n",
    "    s = s + d\n",
    "    if d < 0:\n",
    "        print(\"資料異常\")\n",
    "        break\n",
    "else:\n",
    "    avg = s/len(data)\n",
    "    print(\"平均值:\",avg)\n",
    "\n",
    "print(\"結束資料處理\")"
   ]
  },
  {
   "cell_type": "markdown",
   "metadata": {},
   "source": [
    "## exception - error"
   ]
  },
  {
   "cell_type": "code",
   "execution_count": 53,
   "metadata": {},
   "outputs": [],
   "source": [
    "name = [\"Eason\",\"Ching\",\"Billy\"]"
   ]
  },
  {
   "cell_type": "code",
   "execution_count": 54,
   "metadata": {},
   "outputs": [
    {
     "ename": "IndexError",
     "evalue": "list index out of range",
     "output_type": "error",
     "traceback": [
      "\u001b[1;31m---------------------------------------------------------------------------\u001b[0m",
      "\u001b[1;31mIndexError\u001b[0m                                Traceback (most recent call last)",
      "Cell \u001b[1;32mIn[54], line 2\u001b[0m\n\u001b[0;32m      1\u001b[0m search_index \u001b[38;5;241m=\u001b[39m \u001b[38;5;28mint\u001b[39m(\u001b[38;5;28minput\u001b[39m(\u001b[38;5;124m\"\u001b[39m\u001b[38;5;124m請輸入索引(index):\u001b[39m\u001b[38;5;124m\"\u001b[39m)) \u001b[38;5;66;03m# input() -> str -> int() -> int\u001b[39;00m\n\u001b[1;32m----> 2\u001b[0m \u001b[38;5;28mprint\u001b[39m(\u001b[43mname\u001b[49m\u001b[43m[\u001b[49m\u001b[43msearch_index\u001b[49m\u001b[43m]\u001b[49m)\n\u001b[0;32m      3\u001b[0m \u001b[38;5;28mprint\u001b[39m(\u001b[38;5;124m\"\u001b[39m\u001b[38;5;124mKeep going...\u001b[39m\u001b[38;5;124m\"\u001b[39m)\n",
      "\u001b[1;31mIndexError\u001b[0m: list index out of range"
     ]
    }
   ],
   "source": [
    "search_index = int(input(\"請輸入索引(index):\")) # input() -> str -> int() -> int\n",
    "print(name[search_index])\n",
    "print(\"Keep going...\")"
   ]
  },
  {
   "cell_type": "code",
   "execution_count": 57,
   "metadata": {},
   "outputs": [
    {
     "name": "stdout",
     "output_type": "stream",
     "text": [
      "索引無效\n",
      "Keep going...\n"
     ]
    }
   ],
   "source": [
    "# index error: index out of range\n",
    "search_index = int(input(\"請輸入索引(index):\")) # input() -> str -> int() -> int\n",
    "try: # 嘗試\n",
    "    print(name[search_index])\n",
    "except IndexError: # catch IndexError 例外\n",
    "    print(\"索引無效\")\n",
    "\n",
    "print(\"Keep going...\")"
   ]
  }
 ],
 "metadata": {
  "kernelspec": {
   "display_name": "Python 3",
   "language": "python",
   "name": "python3"
  },
  "language_info": {
   "codemirror_mode": {
    "name": "ipython",
    "version": 3
   },
   "file_extension": ".py",
   "mimetype": "text/x-python",
   "name": "python",
   "nbconvert_exporter": "python",
   "pygments_lexer": "ipython3",
   "version": "3.9.11"
  }
 },
 "nbformat": 4,
 "nbformat_minor": 2
}
