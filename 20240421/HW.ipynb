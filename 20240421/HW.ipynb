{
 "cells": [
  {
   "cell_type": "markdown",
   "metadata": {},
   "source": [
    "HW-4-TWSE_Crawler  Due: 2024/04/23 8:00am\n",
    "請撰寫 Python 程式完成下列⼯作，並且輸出結果：\n",
    "\"請至 台股證交所 (TWSE) 下載 一檔台股個股資料 (例如：台積電、中鋼、日月光、鴻海、廣達、富邦、...)，交易日期： 2023年1月 至 2024年4月 ，並彙整輸出至一份 csv 檔案。\""
   ]
  },
  {
   "cell_type": "code",
   "execution_count": 1,
   "metadata": {},
   "outputs": [],
   "source": [
    "import bs4 as bs  #  beautifulsoup 4\n",
    "import urllib\n",
    "import urllib.request\n",
    "import json\n",
    "import pandas as pd\n",
    "import numpy as np"
   ]
  },
  {
   "cell_type": "markdown",
   "metadata": {},
   "source": [
    "### 1.1 連線至台灣證交所 (TWSE)，擷取 台積電 (2330) 2023/01 個股資料"
   ]
  },
  {
   "cell_type": "code",
   "execution_count": 2,
   "metadata": {},
   "outputs": [],
   "source": [
    "def get_stock_data(year, month, sid): # get a month in once scype\n",
    "    base_url = \"https://www.twse.com.tw/exchangeReport/STOCK_DAY?response=json&date={:d}{:02d}01&stockNo={:s}\"\n",
    "    target_url = base_url.format(year,month,sid)\n",
    "    # get data and parsing (剖析)\n",
    "    webpage_history = urllib.request.urlopen(target_url)\n",
    "    web_html = bs.BeautifulSoup(webpage_history, 'html.parser')\n",
    "    stock = json.loads(web_html.text)  #  讀取 JSON 資料 -> 轉換成 dictionary\n",
    "    stock_info = list(stock.values())  #  轉換成 list 格式\n",
    "    stock_price = pd.DataFrame(stock_info[4]) # 使用pandas創建dataframe(資料表格)\n",
    "    stock_price.columns = stock_info[3] # 將 data frame 資料加上 column name\n",
    "    return stock_price # 傳回 dataframe"
   ]
  },
  {
   "cell_type": "code",
   "execution_count": 3,
   "metadata": {},
   "outputs": [],
   "source": [
    "\n",
    "d1 = get_stock_data(2024,1,\"2330\")\n",
    "d2 = get_stock_data(2024,2,\"2330\")\n",
    "d3 = get_stock_data(2024,3,\"2330\")\n",
    "d4 = get_stock_data(2024,4,\"2330\")\n",
    "\n",
    "fused_df = pd.concat([d1, d2, d3, d4], ignore_index=True, axis=0) # ignore_index (忽略原有的index)\n",
    "\n",
    "import os.path\n",
    "mydir ='./'       #  目前的工作目錄 (相對路徑)\n",
    "csv_file = os.path.join(mydir, \"stock_2330_2024_01_to_04.csv\")   #  建立檔案路徑 + 檔案名稱 stock.csv\n",
    "fused_df.to_csv(csv_file, encoding='utf_8_sig')   #  輸出 csv 檔案至 工作目錄 "
   ]
  }
 ],
 "metadata": {
  "kernelspec": {
   "display_name": "Python 3",
   "language": "python",
   "name": "python3"
  },
  "language_info": {
   "codemirror_mode": {
    "name": "ipython",
    "version": 3
   },
   "file_extension": ".py",
   "mimetype": "text/x-python",
   "name": "python",
   "nbconvert_exporter": "python",
   "pygments_lexer": "ipython3",
   "version": "3.9.11"
  }
 },
 "nbformat": 4,
 "nbformat_minor": 2
}
